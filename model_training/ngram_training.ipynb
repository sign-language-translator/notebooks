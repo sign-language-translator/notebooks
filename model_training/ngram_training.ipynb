{
 "cells": [
  {
   "cell_type": "markdown",
   "metadata": {},
   "source": [
    "### Imports"
   ]
  },
  {
   "cell_type": "code",
   "execution_count": 9,
   "metadata": {},
   "outputs": [],
   "source": [
    "import sign_language_translator as slt\n",
    "from tqdm.auto import tqdm"
   ]
  },
  {
   "cell_type": "markdown",
   "metadata": {},
   "source": [
    "### data"
   ]
  },
  {
   "cell_type": "code",
   "execution_count": 11,
   "metadata": {},
   "outputs": [],
   "source": [
    "with open(\"data/acronyms.txt\") as f:\n",
    "    acronyms = f.read().splitlines()\n",
    "data = [f\"<{acronym}>\" for acronym in acronyms]"
   ]
  },
  {
   "cell_type": "markdown",
   "metadata": {},
   "source": [
    "### training"
   ]
  },
  {
   "cell_type": "code",
   "execution_count": 54,
   "metadata": {},
   "outputs": [
    {
     "data": {
      "application/vnd.jupyter.widget-view+json": {
       "model_id": "6cb65dc330e144e4967efb6c8fba341e",
       "version_major": 2,
       "version_minor": 0
      },
      "text/plain": [
       "  0%|          | 0/6 [00:00<?, ?it/s]"
      ]
     },
     "metadata": {},
     "output_type": "display_data"
    },
    {
     "data": {
      "text/plain": [
       "'sign_language_translator.models.language_models.mixer.MixerLM'\n",
       "\n",
       "Mixer LM: name=\"en-acronyms-mixed-w1-w6-lm\", unk_tok=\"<unk>\"[6]\n",
       "├── Ngram LM: name=\"token-sw-w1\", unk_tok=\"<unk>\", window=1, params=728 | prob=4.4%\n",
       "├── Ngram LM: name=\"token-sw-w2\", unk_tok=\"<unk>\", window=2, params=10541 | prob=9.2%\n",
       "├── Ngram LM: name=\"token-sw-w3\", unk_tok=\"<unk>\", window=3, params=28475 | prob=14.1%\n",
       "├── Ngram LM: name=\"token-sw-w4\", unk_tok=\"<unk>\", window=4, params=28751 | prob=19.0%\n",
       "├── Ngram LM: name=\"token-sw-w5\", unk_tok=\"<unk>\", window=5, params=15773 | prob=24.1%\n",
       "└── Ngram LM: name=\"token-sw-w6\", unk_tok=\"<unk>\", window=6, params=6950 | prob=29.2%"
      ]
     },
     "execution_count": 54,
     "metadata": {},
     "output_type": "execute_result"
    }
   ],
   "source": [
    "model_sizes = [1,2,3,4,5,6]\n",
    "slms = [\n",
    "    slt.models.NgramLanguageModel(window_size=w, unknown_token=\"<unk>\", name=f\"token-sw-w{w}\")\n",
    "    for w in model_sizes\n",
    "]\n",
    "[lm.fit(data) for lm in tqdm(slms, leave=True)]\n",
    "mix = slt.models.MixerLM(slms, [m**1.05 for m in model_sizes], name=\"en-acronyms-mixed-w1-w6-lm\")\n",
    "sampler = slt.models.BeamSampling(mix, beam_width=2, start_of_sequence_token = \"<\", max_length=20)\n",
    "mix"
   ]
  },
  {
   "cell_type": "code",
   "execution_count": 118,
   "metadata": {},
   "outputs": [
    {
     "data": {
      "text/plain": [
       "('<PHILIPPO>', 'new')"
      ]
     },
     "execution_count": 118,
     "metadata": {},
     "output_type": "execute_result"
    }
   ],
   "source": [
    "gen, score = sampler.complete(\"<\")\n",
    "gen, \"old\" if gen in data else \"new\""
   ]
  }
 ],
 "metadata": {
  "kernelspec": {
   "display_name": "Python 3",
   "language": "python",
   "name": "python3"
  },
  "language_info": {
   "codemirror_mode": {
    "name": "ipython",
    "version": 3
   },
   "file_extension": ".py",
   "mimetype": "text/x-python",
   "name": "python",
   "nbconvert_exporter": "python",
   "pygments_lexer": "ipython3",
   "version": "3.11.4"
  },
  "orig_nbformat": 4
 },
 "nbformat": 4,
 "nbformat_minor": 2
}
