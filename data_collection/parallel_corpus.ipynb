{
 "cells": [
  {
   "cell_type": "code",
   "execution_count": null,
   "metadata": {},
   "outputs": [],
   "source": [
    "import json"
   ]
  },
  {
   "cell_type": "markdown",
   "metadata": {},
   "source": [
    "count tokens per language"
   ]
  },
  {
   "cell_type": "code",
   "execution_count": 155,
   "metadata": {},
   "outputs": [
    {
     "data": {
      "text/plain": [
       "('token',\n",
       " 776,\n",
       " {'en': (1584, 1584), 'hi': (31, 31), 'ur': (2071, 2071), 'latn-ur': (2, 2)})"
      ]
     },
     "execution_count": 155,
     "metadata": {},
     "output_type": "execute_result"
    }
   ],
   "source": [
    "dir_ = \"/Users/mudassar.iqbal/Library/CloudStorage/GoogleDrive-mdsriqb@gmail.com/My Drive/sign-language-translator/sign-language-datasets/\"\n",
    "file = \"parallel_texts/pk-dictionary-mapping.json\"\n",
    "# file = \"parallel_texts/pk-sentence-mapping.json\"\n",
    "# file = \"parallel_texts/pk-synthetic-sentence-mapping.json\"\n",
    "\n",
    "key = \"token\"\n",
    "# key = \"translation\"\n",
    "# key = \"transcription\"\n",
    "\n",
    "lang_to_label_and_tokens = {}\n",
    "with open(dir_+file) as f:\n",
    "    data = json.load(f)\n",
    "    for collection in data:\n",
    "        for mapping in collection[\"mapping\"]:\n",
    "            for lang, tokens in mapping[key].items():\n",
    "                if lang not in lang_to_label_and_tokens:\n",
    "                    lang_to_label_and_tokens[lang] = [[], []]\n",
    "\n",
    "                for token in tokens:\n",
    "                    lang_to_label_and_tokens[lang][0].append(mapping.get(\"label\", None) or \"+\".join(mapping[\"components\"]))\n",
    "                    lang_to_label_and_tokens[lang][1].append(token)\n",
    "\n",
    "key, len(set([x for v in lang_to_label_and_tokens.values() for x in v[0] if \"+\" not in x])),\\\n",
    "{k:(len(v[0]), len(v[1])) for k,v in lang_to_label_and_tokens.items()}"
   ]
  }
 ],
 "metadata": {
  "kernelspec": {
   "display_name": "slt",
   "language": "python",
   "name": "python3"
  },
  "language_info": {
   "codemirror_mode": {
    "name": "ipython",
    "version": 3
   },
   "file_extension": ".py",
   "mimetype": "text/x-python",
   "name": "python",
   "nbconvert_exporter": "python",
   "pygments_lexer": "ipython3",
   "version": "3.10.13"
  }
 },
 "nbformat": 4,
 "nbformat_minor": 2
}
