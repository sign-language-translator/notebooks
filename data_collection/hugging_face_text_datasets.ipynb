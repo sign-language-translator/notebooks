{
 "cells": [
  {
   "cell_type": "code",
   "execution_count": 18,
   "metadata": {},
   "outputs": [],
   "source": [
    "from datasets import load_dataset\n",
    "from tqdm.auto import tqdm\n",
    "import json\n",
    "import re\n",
    "import sign_language_translator as slt\n",
    "lang = slt.languages.text.Urdu()\n",
    "symbols = \"\".join(lang.SYMBOLS)"
   ]
  },
  {
   "cell_type": "markdown",
   "metadata": {},
   "source": [
    "## Download `Urdu`"
   ]
  },
  {
   "cell_type": "code",
   "execution_count": 6,
   "metadata": {},
   "outputs": [],
   "source": [
    "ur_dates = [\"20230901\", \"20230920\", \"20231001\", \"20231020\", \"20231101\", \"20231120\", \"20231201\", \"20231220\", \"20240101\", \"20240120\"]"
   ]
  },
  {
   "cell_type": "code",
   "execution_count": null,
   "metadata": {},
   "outputs": [],
   "source": [
    "for d in ur_dates[:1]:\n",
    "    print(d)\n",
    "    load_dataset(\"wikipedia\", language=\"ur\", date=d, beam_runner=\"DirectRunner\", trust_remote_code=True)\n",
    "load_dataset(\"wikimedia/wikipedia\", \"20231101.ur\")  # 1.2M unique words"
   ]
  },
  {
   "cell_type": "markdown",
   "metadata": {},
   "source": [
    "## Download `English`"
   ]
  },
  {
   "cell_type": "code",
   "execution_count": null,
   "metadata": {},
   "outputs": [],
   "source": [
    "# English\n",
    "load_dataset(\"wikitext\", 'wikitext-103-v1')\n",
    "load_dataset(\"wikitext\", 'wikitext-2-v1')\n",
    "load_dataset(\"bookcorpus\")\n",
    "load_dataset(\"wikimedia/wikisource\", \"20231201.en\")"
   ]
  },
  {
   "cell_type": "markdown",
   "metadata": {},
   "source": [
    "## Download `Hindi`"
   ]
  },
  {
   "cell_type": "code",
   "execution_count": 9,
   "metadata": {},
   "outputs": [],
   "source": [
    "hi_dates = ['20230901', '20230920', '20231001', '20231020', '20231101', '20231120', '20231201', '20231220', '20240101', '20240120']"
   ]
  },
  {
   "cell_type": "code",
   "execution_count": null,
   "metadata": {},
   "outputs": [],
   "source": [
    "for d in hi_dates:\n",
    "    print(d)\n",
    "    load_dataset(\"wikipedia\", language=\"hi\", date=d, beam_runner=\"DirectRunner\", trust_remote_code=True)\n",
    "load_dataset(\"wikimedia/wikipedia\", \"20231101.hi\")\n",
    "load_dataset(\"wikimedia/wikisource\", \"20231201.hi\")"
   ]
  },
  {
   "cell_type": "markdown",
   "metadata": {},
   "source": [
    "## `Save`"
   ]
  },
  {
   "cell_type": "code",
   "execution_count": 1,
   "metadata": {},
   "outputs": [],
   "source": [
    "lines = {}\n",
    "words = {}"
   ]
  },
  {
   "cell_type": "code",
   "execution_count": 4,
   "metadata": {},
   "outputs": [
    {
     "data": {
      "text/plain": [
       "DatasetDict({\n",
       "    train: Dataset({\n",
       "        features: ['id', 'url', 'title', 'text'],\n",
       "        num_rows: 200154\n",
       "    })\n",
       "})"
      ]
     },
     "execution_count": 4,
     "metadata": {},
     "output_type": "execute_result"
    }
   ],
   "source": [
    "dataset = load_dataset(\"wikimedia/wikipedia\", \"20231101.ur\")\n",
    "dataset"
   ]
  },
  {
   "cell_type": "code",
   "execution_count": 5,
   "metadata": {},
   "outputs": [
    {
     "data": {
      "application/vnd.jupyter.widget-view+json": {
       "model_id": "b6d0ee3b80bc4cd8bb27de9e828ef9be",
       "version_major": 2,
       "version_minor": 0
      },
      "text/plain": [
       "  0%|          | 0/200154 [00:00<?, ?it/s]"
      ]
     },
     "metadata": {},
     "output_type": "display_data"
    },
    {
     "data": {
      "text/plain": [
       "(1340954, 4159209)"
      ]
     },
     "execution_count": 5,
     "metadata": {},
     "output_type": "execute_result"
    }
   ],
   "source": [
    "for row in (bar:=tqdm(dataset[\"train\"])):\n",
    "    for l in row[\"text\"].splitlines():\n",
    "        l = l.strip()\n",
    "        lines[l] = lines.get(l, 0) + 1\n",
    "    for l in row[\"title\"].splitlines():\n",
    "        l = l.strip()\n",
    "        lines[l] = lines.get(l, 0) + 1\n",
    "len(lines), sum(lines.values())"
   ]
  },
  {
   "cell_type": "code",
   "execution_count": 7,
   "metadata": {},
   "outputs": [
    {
     "name": "stdout",
     "output_type": "stream",
     "text": [
      "20230901\t1347354 8259897\n",
      "20230920\t1347517 12373826\n",
      "20231001\t1347631 16498572\n",
      "20231020\t1347765 20647286\n",
      "20231101\t1347765 24806563\n",
      "20231120\t1357873 28987707\n",
      "20231201\t1363371 33180229\n",
      "20231220\t1371244 37384207\n",
      "20240101\t1380331 41606119\n",
      "20240120\t1517672 45841011\n"
     ]
    }
   ],
   "source": [
    "for d in ur_dates[:]:\n",
    "    print(d, end=\"\\t\")\n",
    "    dataset = load_dataset(\"wikipedia\", language=\"ur\", date=d, beam_runner=\"DirectRunner\", trust_remote_code=True)\n",
    "    for row in dataset[\"train\"]:\n",
    "        for l in row[\"text\"].splitlines():  #! new line can mark end/start of a sentence\n",
    "            l = l.strip()\n",
    "            lines[l] = lines.get(l, 0) + 1\n",
    "        for l in row[\"title\"].splitlines():\n",
    "            l = l.strip()\n",
    "            lines[l] = lines.get(l, 0) + 1\n",
    "    print(len(lines), sum(lines.values()))"
   ]
  },
  {
   "cell_type": "code",
   "execution_count": null,
   "metadata": {},
   "outputs": [],
   "source": [
    "sorted_lines = (sorted(lines.items(), key=lambda x: x[1], reverse=True))\n",
    "len(sorted_lines), sorted_lines[100:200], sorted_lines[-1000:-900]"
   ]
  },
  {
   "cell_type": "code",
   "execution_count": 27,
   "metadata": {},
   "outputs": [],
   "source": [
    "import json\n",
    "base=\"/Users/mudassar.iqbal/Library/CloudStorage/GoogleDrive-mdsriqb@gmail.com/My Drive/sign-language-translator/sign-language-datasets/temp/temp/raw_corpora\"\n",
    "with open(base+\"/ur_wikipedia_lines.json\", 'w', encoding=\"utf-8\")as f:\n",
    "    json.dump(dict(sorted_lines), f, ensure_ascii=False, indent=0)\n",
    "    # json.dump(dict([l for l in sorted_lines if l[1]>50]), f, ensure_ascii=False, indent=0)"
   ]
  },
  {
   "cell_type": "code",
   "execution_count": null,
   "metadata": {},
   "outputs": [],
   "source": []
  }
 ],
 "metadata": {
  "kernelspec": {
   "display_name": "slt",
   "language": "python",
   "name": "python3"
  },
  "language_info": {
   "codemirror_mode": {
    "name": "ipython",
    "version": 3
   },
   "file_extension": ".py",
   "mimetype": "text/x-python",
   "name": "python",
   "nbconvert_exporter": "python",
   "pygments_lexer": "ipython3",
   "version": "3.11.8"
  }
 },
 "nbformat": 4,
 "nbformat_minor": 2
}
