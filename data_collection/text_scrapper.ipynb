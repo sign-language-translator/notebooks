{
 "cells": [
  {
   "cell_type": "code",
   "execution_count": 2,
   "metadata": {},
   "outputs": [],
   "source": [
    "from IPython.display import clear_output\n",
    "from importlib import reload\n",
    "import json\n",
    "from time import sleep\n",
    "\n",
    "from sign_language_translator.data_collection import scraping\n",
    "reload(scraping)\n",
    "clear_output()\n",
    "\n",
    "# from sign_language_translator.text import mappers\n",
    "# reload(mappers)\n",
    "# clear_output()"
   ]
  },
  {
   "cell_type": "markdown",
   "metadata": {},
   "source": [
    "# glosbe.com"
   ]
  },
  {
   "cell_type": "code",
   "execution_count": 59,
   "metadata": {},
   "outputs": [],
   "source": [
    "with open('word_list.json', 'r') as f:\n",
    "    words = json.load(f)\n",
    "results = {\"next_page_number\": {w:1 for w in words}, \"texts\":set()}"
   ]
  },
  {
   "cell_type": "code",
   "execution_count": 43,
   "metadata": {},
   "outputs": [],
   "source": [
    "# with open('glosbe.json', 'w') as f:\n",
    "#     json.dump({\"next_page_number\":results[\"next_page_number\"], \"texts\": list(results['texts'])}, f, ensure_ascii=False)\n",
    "\n",
    "# with open('glosbe.json', 'r') as f:\n",
    "#     results = json.load(f)\n",
    "#     results = {\"next_page_number\":results[\"next_page_number\"], \"texts\": set(results['texts'])}\n",
    "\n",
    "# with open('../../sign_language_translator/datasets/text_corpora/raw_corpora/glosbe.json', 'w', encoding='utf8') as f:\n",
    "#     json.dump(sorted(results['texts']), f, indent=0, ensure_ascii=False)\n",
    "\n",
    "# len(results['texts']), len([v for v in results['next_page_number'].values() if v>0])"
   ]
  },
  {
   "cell_type": "code",
   "execution_count": 39,
   "metadata": {},
   "outputs": [
    {
     "data": {
      "text/plain": [
       "(100938, 0)"
      ]
     },
     "execution_count": 39,
     "metadata": {},
     "output_type": "execute_result"
    }
   ],
   "source": [
    "print(len(results['texts']))\n",
    "args_list = [\n",
    "    (word, \"ur\", \"ur\", results)\n",
    "    for word, next_page_number in results[\"next_page_number\"].items()\n",
    "    if next_page_number > 0\n",
    "]\n",
    "scraping.multi_threaded_requests(scraping.scraping_function_for_glosbe, args_list, time_delay=0.1)\n",
    "clear_output()\n",
    "len(results['texts']), len([v for v in results['next_page_number'].values() if v>0])"
   ]
  },
  {
   "cell_type": "markdown",
   "metadata": {},
   "source": [
    "# rekhta.org"
   ]
  },
  {
   "cell_type": "code",
   "execution_count": 6,
   "metadata": {},
   "outputs": [],
   "source": [
    "categories = [\"nazm\", \"ghazal\", \"couplet\", 'mixed']\n",
    "with open('word_list.json', 'r') as f:\n",
    "    words = json.load(f)\n",
    "# results = {\"next_page_number\": {w:1 for w in words}, \"texts\":{}}\n",
    "\n",
    "results.update({\"next_page_number\": {w:1 for w in words}})\n",
    "\n",
    "sizes = []"
   ]
  },
  {
   "cell_type": "code",
   "execution_count": 148,
   "metadata": {},
   "outputs": [
    {
     "name": "stdout",
     "output_type": "stream",
     "text": [
      "[7237, 7026, 6855, 8227, 9326, 6564, 6468, 6436, 6170, 6156, 6056, 5839, 5753, 5713, 5568, 5552, 5570, 5245, 5320, 5097, 5042, 4993, 4907, 4773, 4696, 4671, 4483, 4536, 4361, 4384, 4355, 4197, 4073, 3999, 4037, 3979, 3940, 3901, 3886, 3918, 3689, 3669, 3611, 3499, 3464, 3233, 3294, 1299, 3368, 3436, 3260, 3047, 3116, 3229, 3056, 2901, 3057, 2910, 2882, 2952, 2691, 2848, 2781, 2717, 2742]\n",
      "50 426309 439331 {'نظم': 63096, 'غزل': 220959, 'ہندی غزل': 609, 'شعر': 25327, 'غیرمتداول اشعار': 59, 'مرثیہ': 6906, 'افسانہ': 63651, 'مضمون': 23542, 'طنز و مزاح': 6053, 'مثنوی': 3506, 'مزاحیہ': 2734, 'خاکہ': 1783, 'افسانچے': 298, 'ناول': 355, 'رپورتاژ': 271, 'شاعری کے تراجم': 132, 'قطعہ': 1700, 'اقوال': 635, 'ڈرامہ': 3321, 'ترجمہ': 1263, 'انٹرویو': 326, 'بچوں کی کہانی': 2420, 'ناولٹ': 1, 'قادر نامہ': 114, 'گیت': 602, 'منقبت': 486, 'میریات': 3377, 'قصہ': 462, 'تلمیح': 83, 'نعت': 354, 'رباعی': 1479, 'دوہا': 285, 'خط': 107, 'قصیدہ': 754, 'غیر متداول غزلیں': 1206, 'سلام': 104, 'مخمس': 71, 'پہیلی': 114, 'کہہ مکرنیاں': 23, 'ہجویات مخمسہ': 97, 'سہرا': 18, 'خود نوشت سوانح': 151, 'واسوخت': 122, 'ترکیب بند': 61, 'ریختی': 175, 'تضمین': 55, 'مخمسات عشقیہ': 46, 'رباعی مستزاد': 16, 'عشرہ': 16, 'حمد': 6}\n"
     ]
    }
   ],
   "source": [
    "for itr in range(12):\n",
    "    print(itr)\n",
    "    args_list = [\n",
    "        (word, categories[3], results)\n",
    "        for word, next_page_number in list(results[\"next_page_number\"].items())[:]\n",
    "        if next_page_number > 0\n",
    "    ]\n",
    "    scraping.multi_threaded_requests(\n",
    "        scraping.scraping_function_for_rekhta, args_list, time_delay=0.003, max_n_threads=600\n",
    "    )\n",
    "    clear_output()\n",
    "    n_txts = {key:len(val) for key, val in results['texts'].items()}\n",
    "    if sum(n_txts.values()) not in sizes:\n",
    "        sizes.append(sum(n_txts.values()))\n",
    "    print([sizes[i+1]-sizes[i] for i in range(len(sizes)-1)])\n",
    "    print(len(n_txts), len({v for val in results['texts'].values() for v in val}), sum(n_txts.values()), n_txts)"
   ]
  },
  {
   "cell_type": "code",
   "execution_count": 149,
   "metadata": {},
   "outputs": [],
   "source": [
    "with open('rekhta.json', 'w') as f:\n",
    "    json.dump({\n",
    "        \"next_page_number\": results['next_page_number'],\n",
    "        \"texts\": {k:sorted(v) for k,v in results['texts'].items()}\n",
    "    }, f, indent=1, ensure_ascii=False)"
   ]
  },
  {
   "cell_type": "markdown",
   "metadata": {},
   "source": [
    "# ur.wikipedia"
   ]
  },
  {
   "cell_type": "code",
   "execution_count": 3,
   "metadata": {},
   "outputs": [],
   "source": [
    "with open('word_list.json', 'r') as f:\n",
    "    words = json.load(f)\n",
    "results = {\"n_results\":{}, \"texts\":set()}\n",
    "# with open('wiki.json', 'r') as f:\n",
    "#     results = json.load(f)\n",
    "#     results = {\n",
    "#         'n_results': results['n_results'],\n",
    "#         \"texts\": set(results['texts'])\n",
    "#     }"
   ]
  },
  {
   "cell_type": "code",
   "execution_count": 7,
   "metadata": {},
   "outputs": [
    {
     "name": "stdout",
     "output_type": "stream",
     "text": [
      "1990991\n"
     ]
    },
    {
     "name": "stderr",
     "output_type": "stream",
     "text": [
      "sending requests: 100%|██████████| 229/229 [12:52<00:00,  3.37s/it]\n",
      "waiting for threads: 100%|██████████| 229/229 [01:29<00:00,  2.56it/s]\n"
     ]
    },
    {
     "data": {
      "text/plain": [
       "2673211"
      ]
     },
     "execution_count": 7,
     "metadata": {},
     "output_type": "execute_result"
    }
   ],
   "source": [
    "print(len(results['texts']))\n",
    "args_list = [\n",
    "    (word, 5000, \"ur\", results)\n",
    "    for word in words[:]\n",
    "    if word not in results['n_results']\n",
    "]\n",
    "scraping.multi_threaded_requests(scraping.scraping_function_for_wikipedia, args_list, time_delay=1, max_n_threads=None )\n",
    "len(results['texts'])"
   ]
  },
  {
   "cell_type": "code",
   "execution_count": 8,
   "metadata": {},
   "outputs": [
    {
     "data": {
      "text/plain": [
       "(2673211, 3786608, 2371)"
      ]
     },
     "execution_count": 8,
     "metadata": {},
     "output_type": "execute_result"
    }
   ],
   "source": [
    "len(results['texts']), sum(results['n_results'].values()),  len(results['n_results'])"
   ]
  },
  {
   "cell_type": "code",
   "execution_count": 9,
   "metadata": {},
   "outputs": [],
   "source": [
    "with open('wiki.json', 'w') as f:\n",
    "    json.dump({\n",
    "        'n_results': results['n_results'],\n",
    "        \"texts\": sorted(results['texts'])\n",
    "    }, f, indent=0, ensure_ascii=False)"
   ]
  }
 ],
 "metadata": {
  "kernelspec": {
   "display_name": "Python 3.9.14 ('slt')",
   "language": "python",
   "name": "python3"
  },
  "language_info": {
   "codemirror_mode": {
    "name": "ipython",
    "version": 3
   },
   "file_extension": ".py",
   "mimetype": "text/x-python",
   "name": "python",
   "nbconvert_exporter": "python",
   "pygments_lexer": "ipython3",
   "version": "3.9.16"
  },
  "orig_nbformat": 4,
  "vscode": {
   "interpreter": {
    "hash": "444270d6efd99790c1307681015431abc1d1aa3d0ce46e81d69393c3fd1c3e19"
   }
  }
 },
 "nbformat": 4,
 "nbformat_minor": 2
}
