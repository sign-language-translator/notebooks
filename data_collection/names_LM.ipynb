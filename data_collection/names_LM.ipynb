{
 "cells": [
  {
   "cell_type": "code",
   "execution_count": 1,
   "metadata": {},
   "outputs": [],
   "source": [
    "import pandas as pd\n",
    "import sign_language_translator as slt"
   ]
  },
  {
   "cell_type": "markdown",
   "metadata": {},
   "source": [
    "# Create New Names"
   ]
  },
  {
   "cell_type": "code",
   "execution_count": 2,
   "metadata": {},
   "outputs": [
    {
     "data": {
      "text/plain": [
       "['[abeera]', '[shaheena]', '[noman]', '[کنزا]', '[اعوان]', '[زبیر]']"
      ]
     },
     "execution_count": 2,
     "metadata": {},
     "output_type": "execute_result"
    }
   ],
   "source": [
    "df = pd.read_csv(\"/Users/mudassar.iqbal/Library/CloudStorage/GoogleDrive-mdsriqb@gmail.com/My Drive/sign-language-translator/sign-language-datasets\"+'/sign_recordings/temp/names.csv')\n",
    "data = [f\"[{name}]\" for name in df.english_name.to_list()+df.urdu_name.to_list()]\n",
    "data[::int(len(data)/5)]"
   ]
  },
  {
   "cell_type": "code",
   "execution_count": 3,
   "metadata": {},
   "outputs": [],
   "source": [
    "lm1 = slt.models.NgramLanguageModel(window_size=1, unknown_token=\"\")\n",
    "lm2 = slt.models.NgramLanguageModel(window_size=2, unknown_token=\"\")\n",
    "lm1.fit(data)\n",
    "lm2.fit(data)"
   ]
  },
  {
   "cell_type": "code",
   "execution_count": null,
   "metadata": {},
   "outputs": [],
   "source": [
    "# slm.save(\"x.json\")\n",
    "lm1.__dict__"
   ]
  },
  {
   "cell_type": "code",
   "execution_count": 5,
   "metadata": {},
   "outputs": [
    {
     "data": {
      "text/plain": [
       "('[saqib]', False)"
      ]
     },
     "execution_count": 5,
     "metadata": {},
     "output_type": "execute_result"
    }
   ],
   "source": [
    "seq = '[s'\n",
    "for _ in range(20):\n",
    "    nxt, prob = lm2.next(seq)\n",
    "    seq += nxt\n",
    "    if nxt in [']' , lm2.unknown_token]:\n",
    "        break\n",
    "seq, seq in data"
   ]
  },
  {
   "cell_type": "code",
   "execution_count": 11,
   "metadata": {},
   "outputs": [
    {
     "name": "stdout",
     "output_type": "stream",
     "text": [
      "Mixer LM: unk_tok=\"\"[3]\n",
      "├── Ngram LM: name=\"character-lm-w1\", unk_tok=\"\", window=1, params=676 | prob=16.7%\n",
      "├── Ngram LM: name=\"character-lm-w2\", unk_tok=\"\", window=2, params=1772 | prob=33.3%\n",
      "└── Ngram LM: name=\"character-lm-w3\", unk_tok=\"\", window=3, params=2281 | prob=50.0%\n"
     ]
    }
   ],
   "source": [
    "lms = [slt.models.NgramLanguageModel(window_size=w, unknown_token=\"\", sampling_temperature=1.05, name=f\"character-lm-w{w}\")\n",
    "       for w in range(1,4)]\n",
    "[lm.fit(data) for lm in lms]\n",
    "mix = slt.models.MixerLM(lms, [1,2,3], unknown_token=\"\",\n",
    "                       model_selection_strategy=\"merge\")\n",
    "print(mix)\n",
    "# mixer.Mixer([mix, slm, mix])"
   ]
  },
  {
   "cell_type": "code",
   "execution_count": null,
   "metadata": {},
   "outputs": [
    {
     "data": {
      "text/plain": [
       "('[khuzaib]', 'new')"
      ]
     },
     "metadata": {},
     "output_type": "display_data"
    }
   ],
   "source": [
    "seq = '['\n",
    "for _ in range(20):\n",
    "    nxt, prob = mix.next(seq)\n",
    "    seq += nxt\n",
    "    if nxt in [']' , mix.unknown_token]:\n",
    "        break\n",
    "seq, (\"new\" if seq not in data else \"old\")"
   ]
  },
  {
   "cell_type": "code",
   "execution_count": 13,
   "metadata": {},
   "outputs": [
    {
     "data": {
      "text/plain": [
       "('[zafooma]', 'new')"
      ]
     },
     "execution_count": 13,
     "metadata": {},
     "output_type": "execute_result"
    }
   ],
   "source": [
    "seq = '['\n",
    "for _ in range(20):\n",
    "    nxt, prob = mix.next(seq)\n",
    "    seq += nxt\n",
    "    if nxt in [']' , mix.unknown_token]:\n",
    "        break\n",
    "seq, (\"new\" if seq not in data else \"old\")"
   ]
  },
  {
   "cell_type": "code",
   "execution_count": 23,
   "metadata": {},
   "outputs": [],
   "source": [
    "beam = slt.models.BeamSampling(mix, beam_width=2.5)"
   ]
  },
  {
   "cell_type": "code",
   "execution_count": null,
   "metadata": {},
   "outputs": [
    {
     "data": {
      "text/plain": [
       "('[zaheen]', 'new')"
      ]
     },
     "metadata": {},
     "output_type": "display_data"
    }
   ],
   "source": [
    "name,_ = beam('[')\n",
    "name, \"old\" if name in data else \"new\""
   ]
  },
  {
   "cell_type": "code",
   "execution_count": null,
   "metadata": {},
   "outputs": [
    {
     "data": {
      "text/plain": [
       "('[zubaid]', 'new')"
      ]
     },
     "metadata": {},
     "output_type": "display_data"
    }
   ],
   "source": [
    "name,_ = beam('[')\n",
    "\"\".join(name), \"old\" if \"\".join(name) in data else \"new\""
   ]
  }
 ],
 "metadata": {
  "kernelspec": {
   "display_name": "slt",
   "language": "python",
   "name": "python3"
  },
  "language_info": {
   "codemirror_mode": {
    "name": "ipython",
    "version": 3
   },
   "file_extension": ".py",
   "mimetype": "text/x-python",
   "name": "python",
   "nbconvert_exporter": "python",
   "pygments_lexer": "ipython3",
   "version": "3.11.4"
  },
  "orig_nbformat": 4
 },
 "nbformat": 4,
 "nbformat_minor": 2
}
