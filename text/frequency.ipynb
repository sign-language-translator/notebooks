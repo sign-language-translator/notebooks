{
 "cells": [
  {
   "cell_type": "code",
   "execution_count": null,
   "metadata": {},
   "outputs": [],
   "source": [
    "%pip install sign_language_translator"
   ]
  },
  {
   "cell_type": "code",
   "execution_count": 1,
   "metadata": {},
   "outputs": [
    {
     "data": {
      "text/plain": [
       "{'en': 1584, 'hi': 92, 'ur': 2072, 'latn-ur': 22}"
      ]
     },
     "execution_count": 1,
     "metadata": {},
     "output_type": "execute_result"
    }
   ],
   "source": [
    "import json\n",
    "import sign_language_translator as slt\n",
    "from typing import Dict, List\n",
    "\n",
    "path = slt.Assets.download(\"pk-dictionary-mapping.json\", overwrite=False)[0]\n",
    "\n",
    "with open(path) as f:\n",
    "    dic: List[Dict[str, str | List[Dict[str, str | Dict[str, List[str]]]]]] = json.load(f)\n",
    "\n",
    "tokens = {}\n",
    "for collection in dic:\n",
    "    # if collection[\"country\"] != \"pk\":\n",
    "    #     continue\n",
    "    for mapping in collection[\"mapping\"]:\n",
    "        lang_to_text = mapping.get(\"token\", {})\n",
    "        for lang, txts in lang_to_text.items():\n",
    "            for txt in txts:\n",
    "                tokens.setdefault(lang, {})\n",
    "                tokens[lang][txt]=0\n",
    "\n",
    "{lang:len(tokens[lang]) for lang in tokens}"
   ]
  },
  {
   "cell_type": "code",
   "execution_count": 13,
   "metadata": {},
   "outputs": [],
   "source": [
    "import re\n",
    "import requests\n",
    "import urllib.parse\n",
    "\n",
    "def get_google_search_results_count(query):\n",
    "    query_ = urllib.parse.quote(query)\n",
    "    url = f\"https://www.google.com/search?as_epq={query_}\"\n",
    "    headers = {\"User-Agent\": \"Mozilla/5.0 (Windows NT 10.0; Win64; x64) AppleWebKit/537.36 (KHTML, like Gecko) Chrome/91.0.4472.124 Safari/537.36\"}\n",
    "\n",
    "    try:\n",
    "        response = requests.get(url, headers=headers)\n",
    "        matches = re.findall(r\"about ([0-9,]+) results\", response.text.lower())\n",
    "        if matches:\n",
    "            return int(matches[0].replace(',', ''))\n",
    "        else:\n",
    "            print(f\"Couldn't find the number of results for '{query}'\")\n",
    "            return 0\n",
    "    except Exception as e:\n",
    "        print(f\"An error occurred ({query}):\", e)\n",
    "        return 0"
   ]
  },
  {
   "cell_type": "code",
   "execution_count": null,
   "metadata": {},
   "outputs": [],
   "source": [
    "word_sense_regex = r\"\\([^\\(\\)]*\\)\"\n",
    "\n",
    "def update_n_results(lang, word, data):\n",
    "    if word in data[lang]:\n",
    "        return\n",
    "    n = get_google_search_results_count(word)\n",
    "    if n:\n",
    "        data[lang][word] = n\n",
    "\n",
    "slt.utils.threaded_map(\n",
    "    update_n_results,\n",
    "    [(lang, re.sub(word_sense_regex, \"\", word), tokens)\n",
    "        for lang in tokens\n",
    "        for word in tokens[lang]\n",
    "        if not tokens[lang][word]][1500:],\n",
    "    time_delay=0.6,\n",
    "    max_n_threads=500,\n",
    ")"
   ]
  },
  {
   "cell_type": "code",
   "execution_count": 17,
   "metadata": {},
   "outputs": [
    {
     "data": {
      "text/plain": [
       "67"
      ]
     },
     "execution_count": 17,
     "metadata": {},
     "output_type": "execute_result"
    }
   ],
   "source": [
    "len({t:c for l,ts in tokens.items() for t,c in ts.items() if c>0})"
   ]
  },
  {
   "cell_type": "code",
   "execution_count": 19,
   "metadata": {},
   "outputs": [],
   "source": [
    "with open(\"temp/label_counts.json\", \"w\") as f:\n",
    "    json.dump({\n",
    "        lang: {t:c for t,c in ts.items() if c>0}\n",
    "        for lang,ts in tokens.items()\n",
    "    }, f, indent=2, ensure_ascii=False)"
   ]
  }
 ],
 "metadata": {
  "kernelspec": {
   "display_name": "slt",
   "language": "python",
   "name": "python3"
  },
  "language_info": {
   "codemirror_mode": {
    "name": "ipython",
    "version": 3
   },
   "file_extension": ".py",
   "mimetype": "text/x-python",
   "name": "python",
   "nbconvert_exporter": "python",
   "pygments_lexer": "ipython3",
   "version": "3.11.8"
  }
 },
 "nbformat": 4,
 "nbformat_minor": 2
}
