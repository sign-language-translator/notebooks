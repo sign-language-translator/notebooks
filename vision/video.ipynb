{
 "cells": [
  {
   "cell_type": "code",
   "execution_count": 2,
   "metadata": {},
   "outputs": [],
   "source": [
    "import sign_language_translator as slt\n",
    "import os\n",
    "import cv2\n",
    "import numpy as np\n"
   ]
  },
  {
   "cell_type": "markdown",
   "metadata": {},
   "source": [
    "## Video Display"
   ]
  },
  {
   "cell_type": "markdown",
   "metadata": {},
   "source": [
    "`.show()`"
   ]
  },
  {
   "cell_type": "code",
   "execution_count": null,
   "metadata": {},
   "outputs": [],
   "source": [
    "# slt.Settings.FILE_TO_URLS['videos/6_person201_front.mp4']=\"\"\n",
    "# slt.Video('videos/6_person201_front.mp4').show(inline_player=\"jshtml\")\n",
    "frames = slt.vision.utils.read_frames_with_opencv(\"inputs/d-D_person205_front.mp4\")\n",
    "# slt.Video(frames).show()\n",
    "slt.Video('inputs/d-D_person205_front.mp4').show(inline_player=\"html5\")"
   ]
  },
  {
   "cell_type": "markdown",
   "metadata": {},
   "source": [
    "`.get_frame() .show_frame()`"
   ]
  },
  {
   "cell_type": "code",
   "execution_count": null,
   "metadata": {},
   "outputs": [],
   "source": [
    "frames = slt.vision.utils.read_frames_with_opencv(\"inputs/d-D_person205_front.mp4\")\n",
    "v2 = slt.Video(frames, fps=30) # fps=30\n",
    "v2.show_frame(index=40) # timestamp = 0.5\n",
    "v2.save_frame(\"1.5sec.png\", timestamp = 1.5)"
   ]
  },
  {
   "cell_type": "code",
   "execution_count": 94,
   "metadata": {},
   "outputs": [
    {
     "name": "stdout",
     "output_type": "stream",
     "text": [
      "(20, 640, 480, 3)\n",
      "(480, 640, 3)\n"
     ]
    }
   ],
   "source": [
    "v = slt.Video('videos/wordless_wordless.mp4')\n",
    "print(v.shape)\n",
    "print(v.get_frame(0.5).shape)\n",
    "# v.show_frame(0.1)"
   ]
  },
  {
   "cell_type": "markdown",
   "metadata": {},
   "source": [
    "`grid`"
   ]
  },
  {
   "cell_type": "code",
   "execution_count": null,
   "metadata": {},
   "outputs": [],
   "source": [
    "v = slt.Video('videos/wordless_wordless.mp4')\n",
    "v.show_frames_grid(3,5, width=400)"
   ]
  },
  {
   "cell_type": "markdown",
   "metadata": {},
   "source": [
    "## Video Iteration"
   ]
  },
  {
   "cell_type": "markdown",
   "metadata": {},
   "source": [
    "`slice [n_frames, height, width, channels]` & .trim()"
   ]
  },
  {
   "cell_type": "code",
   "execution_count": null,
   "metadata": {},
   "outputs": [],
   "source": [
    "v2 = slt.Video('inputs/d-D_person205_front.mp4')[20:40, 600:800, 500:700]\n",
    "v2.show()\n",
    "print(len(v2))"
   ]
  },
  {
   "cell_type": "code",
   "execution_count": null,
   "metadata": {},
   "outputs": [],
   "source": [
    "n = 10\n",
    "frames_without_channels = np.arange(n).astype(np.uint8).reshape((-1,1,1)).repeat(2,1).repeat(2,2)\n",
    "frames = frames_without_channels[..., np.newaxis].repeat(3, 3) * int(255/n)\n",
    "frames = frames.astype(np.uint8)\n",
    "\n",
    "vn = slt.Video(frames, fps=3)\n",
    "print(vn.shape)\n",
    "vn.show()"
   ]
  },
  {
   "cell_type": "markdown",
   "metadata": {},
   "source": [
    "`.numpy() .torch()`"
   ]
  },
  {
   "cell_type": "code",
   "execution_count": null,
   "metadata": {},
   "outputs": [],
   "source": [
    "v = slt.Video('videos/wordless_wordless.mp4')\n",
    "v.numpy().shape, v.torch().shape"
   ]
  },
  {
   "cell_type": "markdown",
   "metadata": {},
   "source": [
    "## Video Transformations"
   ]
  },
  {
   "cell_type": "markdown",
   "metadata": {},
   "source": [
    "`.transform()`"
   ]
  },
  {
   "cell_type": "code",
   "execution_count": null,
   "metadata": {},
   "outputs": [],
   "source": [
    "v = slt.Video('videos/wordless_wordless.mp4')\n",
    "v.transform(lambda x: x[40:440, 0:320])\n",
    "v.show()"
   ]
  },
  {
   "cell_type": "markdown",
   "metadata": {},
   "source": [
    "## testing slt.Video objects"
   ]
  },
  {
   "cell_type": "code",
   "execution_count": null,
   "metadata": {},
   "outputs": [
    {
     "name": "stdout",
     "output_type": "stream",
     "text": [
      "46\n"
     ]
    }
   ],
   "source": [
    "# open videoCapture and iterate over frames\n",
    "v = cv2.VideoCapture('video.mp4')\n",
    "try:\n",
    "    for i in range(500):\n",
    "        ret, frame = v.read()\n",
    "except:\n",
    "    print(i)"
   ]
  },
  {
   "cell_type": "code",
   "execution_count": null,
   "metadata": {},
   "outputs": [
    {
     "data": {
      "text/plain": [
       "<sign_language_translator.vision.video.video.Video at 0x7fa870324700>"
      ]
     },
     "metadata": {},
     "output_type": "display_data"
    }
   ],
   "source": [
    "slt.Video(\"videos/wordless_wordless.mp4\")"
   ]
  },
  {
   "cell_type": "markdown",
   "metadata": {},
   "source": [
    "test shallow copy/ deep copy"
   ]
  },
  {
   "cell_type": "code",
   "execution_count": null,
   "metadata": {},
   "outputs": [],
   "source": [
    "sentence._Video__next._Video__next.show()"
   ]
  },
  {
   "cell_type": "code",
   "execution_count": null,
   "metadata": {},
   "outputs": [
    {
     "name": "stdout",
     "output_type": "stream",
     "text": [
      "len(self)=20\n",
      "len(start_node)=15\n",
      "len(end_node)=10\n",
      "(end_node._source_end_index)=4\n",
      "len(remaining_nodes or [])=5\n",
      "len(end_node)=5\n",
      "(end_node._source_end_index)=2\n",
      "len(end_node)=3\n",
      "len(new)=8\n",
      "len(end_node)=10\n",
      "(end_node._source_end_index)=4\n",
      "len(self)=20\n",
      "len(new)=8\n",
      "len(new)=6\n"
     ]
    },
    {
     "data": {
      "text/plain": [
       "{'_path': None,\n",
       " '_Video__next': None,\n",
       " '_source_start_index': 0,\n",
       " '_default_step_size': 1,\n",
       " 'transformations': [],\n",
       " 'fps': 3,\n",
       " 'fourcc': 1145656920,\n",
       " 'source': <sign_language_translator.vision.video.video_iterators.SequenceFrames at 0x7fc983292860>,\n",
       " '_source_end_index': 0,\n",
       " '_height': 2,\n",
       " '_width': 2,\n",
       " '_n_channels': 3,\n",
       " '_Video__idx': 0,\n",
       " 'is_closed': True}"
      ]
     },
     "metadata": {},
     "output_type": "display_data"
    }
   ],
   "source": [
    "vn3 = vn+vn+vn+vn\n",
    "\n",
    "vn3.trim(\n",
    "    start_index=7,\n",
    "    end_index=12,\n",
    ").__dict__"
   ]
  },
  {
   "cell_type": "markdown",
   "metadata": {},
   "source": [
    "### test trimming"
   ]
  },
  {
   "cell_type": "code",
   "execution_count": null,
   "metadata": {},
   "outputs": [
    {
     "data": {
      "text/plain": [
       "array([6])"
      ]
     },
     "metadata": {},
     "output_type": "display_data"
    }
   ],
   "source": [
    "np.arange(10)[2:7+1:2][::-3]"
   ]
  },
  {
   "cell_type": "code",
   "execution_count": null,
   "metadata": {},
   "outputs": [],
   "source": [
    "sf     = slt.vision.video.video_iterators.SequenceFrames(frames)\n",
    "source = slt.vision.video.video_iterators.VideoSource(sf, start_index=3, end_index=7, step_size=-4)"
   ]
  },
  {
   "cell_type": "code",
   "execution_count": null,
   "metadata": {},
   "outputs": [
    {
     "data": {
      "text/plain": [
       "(3, 7, [7, 3], 2, [7.0, 3.0])"
      ]
     },
     "metadata": {},
     "output_type": "display_data"
    }
   ],
   "source": [
    "# source.start_index = 2\n",
    "# source.end_index = 7\n",
    "# source.step_size = -2\n",
    "# source.step_size = source.step_size * -3\n",
    "# source.step_size = source.step_size * -1\n",
    "# source.step_size = source.step_size * 2\n",
    "source.start_index, source.end_index, [source.base_index(i) for i in range(len(source))], len(source), [f[0,0,0]/int(255/n) for f in source]"
   ]
  },
  {
   "cell_type": "code",
   "execution_count": null,
   "metadata": {},
   "outputs": [
    {
     "data": {
      "text/plain": [
       "(0, 2, [0, 2], 2)"
      ]
     },
     "metadata": {},
     "output_type": "display_data"
    }
   ],
   "source": [
    "source2 = slt.vision.video.video_iterators.VideoSource(source)\n",
    "source2.step_size = 2\n",
    "source2.start_index, source2.end_index, [source2.base_index(i) for i in range(len(source2))], len(source2)"
   ]
  }
 ],
 "metadata": {
  "kernelspec": {
   "display_name": "Python 3",
   "language": "python",
   "name": "python3"
  },
  "language_info": {
   "codemirror_mode": {
    "name": "ipython",
    "version": 3
   },
   "file_extension": ".py",
   "mimetype": "text/x-python",
   "name": "python",
   "nbconvert_exporter": "python",
   "pygments_lexer": "ipython3",
   "version": "3.10.13"
  },
  "orig_nbformat": 4
 },
 "nbformat": 4,
 "nbformat_minor": 2
}
