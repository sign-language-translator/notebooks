{
 "cells": [
  {
   "cell_type": "code",
   "execution_count": null,
   "metadata": {},
   "outputs": [],
   "source": [
    "!pip install sign-language-translator"
   ]
  },
  {
   "cell_type": "code",
   "execution_count": 10,
   "metadata": {},
   "outputs": [],
   "source": [
    "import os\n",
    "from glob import glob\n",
    "\n",
    "import numpy as np\n",
    "from tqdm.auto import tqdm\n",
    "\n",
    "import sign_language_translator as slt"
   ]
  },
  {
   "cell_type": "code",
   "execution_count": null,
   "metadata": {},
   "outputs": [],
   "source": [
    "slt.Assets.set_root_dir(\"./temp_assets\")\n",
    "slt.Assets.extract(\".*\", \"datasets/pk-hfad-1.videos-mp4.zip\", download_archive=True)"
   ]
  },
  {
   "cell_type": "code",
   "execution_count": null,
   "metadata": {},
   "outputs": [],
   "source": [
    "!slt embed temp_assets/videos/*.mp4 --model-code mediapipe-pose-2-hand-1 --embedding-type all --processes 12 --save-format csv --output-dir \"temp_assets/landmarks-mediapipe\""
   ]
  },
  {
   "cell_type": "code",
   "execution_count": 14,
   "metadata": {},
   "outputs": [],
   "source": [
    "for path in tqdm(glob(\"temp_assets/landmarks-mediapipe/*.csv\")):\n",
    "    raw = np.loadtxt(path, delimiter=\",\")\n",
    "    label = os.path.basename(path).split(\".\")[0]\n",
    "\n",
    "    slt.Landmarks(raw[:, :375].reshape(-1, 75, 5)).save(f\"temp_assets/landmarks-mediapipe-world-csv/{label}.landmarks-mediapipe-world.csv\", overwrite=True)\n",
    "    slt.Landmarks(raw[:, 375:].reshape(-1, 75, 5)).save(f\"temp_assets/landmarks-mediapipe-image-csv/{label}.landmarks-mediapipe-image.csv\", overwrite=True)"
   ]
  },
  {
   "cell_type": "code",
   "execution_count": null,
   "metadata": {},
   "outputs": [],
   "source": [
    "label = \"pk-hfad-1_1\"\n",
    "model = \"mediapipe-world\"\n",
    "\n",
    "slt.Landmarks.load(f\"temp_assets/landmarks-{model}-csv/{label}.landmarks-{model}.csv\").show()"
   ]
  }
 ],
 "metadata": {
  "kernelspec": {
   "display_name": "slt",
   "language": "python",
   "name": "python3"
  },
  "language_info": {
   "codemirror_mode": {
    "name": "ipython",
    "version": 3
   },
   "file_extension": ".py",
   "mimetype": "text/x-python",
   "name": "python",
   "nbconvert_exporter": "python",
   "pygments_lexer": "ipython3",
   "version": "3.11.8"
  }
 },
 "nbformat": 4,
 "nbformat_minor": 2
}
